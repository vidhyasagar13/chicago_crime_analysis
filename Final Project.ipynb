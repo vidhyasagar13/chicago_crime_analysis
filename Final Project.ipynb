{
 "cells": [
  {
   "cell_type": "code",
   "execution_count": 1,
   "metadata": {},
   "outputs": [],
   "source": [
    "#Final Project - Dated 22 Nov 2019"
   ]
  },
  {
   "cell_type": "code",
   "execution_count": 2,
   "metadata": {},
   "outputs": [],
   "source": [
    "#required libraries\n",
    "import pandas as pd\n",
    "import numpy as np"
   ]
  },
  {
   "cell_type": "code",
   "execution_count": 3,
   "metadata": {},
   "outputs": [
    {
     "name": "stderr",
     "output_type": "stream",
     "text": [
      "/Users/vidhyasagarudayakumar/anaconda3/lib/python3.7/site-packages/IPython/core/interactiveshell.py:3057: DtypeWarning: Columns (17,20) have mixed types. Specify dtype option on import or set low_memory=False.\n",
      "  interactivity=interactivity, compiler=compiler, result=result)\n",
      "/Users/vidhyasagarudayakumar/anaconda3/lib/python3.7/site-packages/IPython/core/interactiveshell.py:3057: DtypeWarning: Columns (1,9,10,16,21) have mixed types. Specify dtype option on import or set low_memory=False.\n",
      "  interactivity=interactivity, compiler=compiler, result=result)\n"
     ]
    }
   ],
   "source": [
    "#import datasets\n",
    "two1 = pd.read_csv('Chicago_Crimes_2001_to_2004.csv')\n",
    "two5 = pd.read_csv('Chicago_Crimes_2005_to_2007.csv')\n",
    "two8 = pd.read_csv('Chicago_Crimes_2008_to_2011.csv')\n",
    "two12 = pd.read_csv('Chicago_Crimes_2012_to_2017.csv')"
   ]
  },
  {
   "cell_type": "code",
   "execution_count": 4,
   "metadata": {},
   "outputs": [],
   "source": [
    "#Creating seasons variable\n",
    "\n",
    "#splitting - 1\n",
    "datetimestamp = two1['Date'].str.split(n=1, expand=True)\n",
    "datetimestamp.columns = ['date_id{}'.format(x+1) for x in datetimestamp.columns]\n",
    "two1 = two1.join(datetimestamp)\n",
    "\n",
    "#splitting - 2\n",
    "datetimestamp = two5['Date'].str.split(n=1, expand=True)\n",
    "datetimestamp.columns = ['date_id{}'.format(x+1) for x in datetimestamp.columns]\n",
    "two5 = two5.join(datetimestamp)\n",
    "\n",
    "#splitting - 3\n",
    "datetimestamp = two8['Date'].str.split(n=1, expand=True)\n",
    "datetimestamp.columns = ['date_id{}'.format(x+1) for x in datetimestamp.columns]\n",
    "two8 = two8.join(datetimestamp)\n",
    "\n",
    "#splitting - 4\n",
    "datetimestamp = two12['Date'].str.split(n=1, expand=True)\n",
    "datetimestamp.columns = ['date_id{}'.format(x+1) for x in datetimestamp.columns]\n",
    "two12 = two12.join(datetimestamp)\n",
    "\n",
    "#seasons\n",
    "\n",
    "\n"
   ]
  },
  {
   "cell_type": "code",
   "execution_count": 5,
   "metadata": {},
   "outputs": [],
   "source": [
    "two1[['day','month','year']] = two1.date_id1.str.split('/', expand=True)\n",
    "two5[['day','month','year']] = two5.date_id1.str.split('/', expand=True)\n",
    "two8[['day','month','year']] = two8.date_id1.str.split('/', expand=True)\n",
    "two12[['day','month','year']] = two12.date_id1.str.split('/', expand=True)"
   ]
  },
  {
   "cell_type": "code",
   "execution_count": 6,
   "metadata": {},
   "outputs": [],
   "source": [
    "def replace_check(row):\n",
    "    if row == '06' or row == '07' or row == '08':\n",
    "        val = 'Summer'\n",
    "    elif row == '03' or row == '04' or row == '05':\n",
    "        val = 'Spring'\n",
    "    elif row == '12' or row == '01' or row == '02':\n",
    "        val = 'Winter'\n",
    "    else:\n",
    "        val = 'Fall'\n",
    "    return val"
   ]
  },
  {
   "cell_type": "code",
   "execution_count": 7,
   "metadata": {},
   "outputs": [],
   "source": [
    "#Seasons Initialize\n",
    "\n",
    "two1['Seasons'] = two1.month.apply(replace_check)\n",
    "two5['Seasons'] = two5.month.apply(replace_check)\n",
    "two8['Seasons'] = two8.month.apply(replace_check)\n",
    "two12['Seasons'] = two12.month.apply(replace_check)\n",
    "\n",
    "\n",
    "#Seasons Done"
   ]
  },
  {
   "cell_type": "code",
   "execution_count": 8,
   "metadata": {},
   "outputs": [],
   "source": [
    "#Time Splitting - 1 \n",
    "two1[['hour','minute','second']] = two1.date_id2.str.split(':', expand=True)\n",
    "\n",
    "#Time Splitting - 2 \n",
    "two5[['hour','minute','second']] = two5.date_id2.str.split(':', expand=True)\n",
    "\n",
    "#Time Splitting - 3\n",
    "two8[['hour','minute','second']] = two8.date_id2.str.split(':', expand=True)\n",
    "\n",
    "#Time Splitting - 4\n",
    "two12[['hour','minute','second']] = two12.date_id2.str.split(':', expand=True)"
   ]
  },
  {
   "cell_type": "code",
   "execution_count": 9,
   "metadata": {},
   "outputs": [],
   "source": [
    "#TimeSplit2 - 1\n",
    "two1[['second', 'dayperiod']] = two1.second.str.split(' ', expand=True)\n",
    "\n",
    "#TimeSplit2 - 2\n",
    "two5[['second', 'dayperiod']] = two5.second.str.split(' ', expand=True)\n",
    "\n",
    "#TimeSplit2 - 3\n",
    "two8[['second', 'dayperiod']] = two8.second.str.split(' ', expand=True)\n",
    "\n",
    "#TimeSplit2 - 4\n",
    "two12[['second', 'dayperiod']] = two12.second.str.split(' ', expand=True)"
   ]
  },
  {
   "cell_type": "code",
   "execution_count": 10,
   "metadata": {},
   "outputs": [],
   "source": [
    "def period_replace_check(dayperiod,hour,minute):\n",
    "    try:\n",
    "        if dayperiod == \"AM\":\n",
    "            if int(hour) in [6,7,8,9,10,11] and int(minute) in range(0,60):\n",
    "                val = 'Morning'\n",
    "            elif int(hour) in [12,1,2,3,4,5] and int(minute) in range(0,60):\n",
    "                val = 'Night'\n",
    "        else:\n",
    "            if int(hour) in [5,6,7] and int(minute) in range(0,60):\n",
    "                val = 'Evening'\n",
    "            elif int(hour) in [12,1,2,3,4] and int(minute) in range(0,60):\n",
    "                val = 'Noon' \n",
    "            elif int(hour) in [7,8,9,10,11] and int(minute) in range(0,60):\n",
    "                val = 'Night'\n",
    "    except:\n",
    "        val = ''\n",
    "    return val"
   ]
  },
  {
   "cell_type": "code",
   "execution_count": 11,
   "metadata": {},
   "outputs": [],
   "source": [
    "#TimePeriod - Initialize"
   ]
  },
  {
   "cell_type": "code",
   "execution_count": 12,
   "metadata": {},
   "outputs": [],
   "source": [
    "two1['TimePeriod'] = two1.apply(lambda x: period_replace_check(x.dayperiod, x.hour, x.minute), axis=1)"
   ]
  },
  {
   "cell_type": "code",
   "execution_count": 13,
   "metadata": {},
   "outputs": [],
   "source": [
    "two5['TimePeriod'] = two5.apply(lambda x: period_replace_check(x.dayperiod, x.hour, x.minute), axis=1)"
   ]
  },
  {
   "cell_type": "code",
   "execution_count": 14,
   "metadata": {},
   "outputs": [],
   "source": [
    "two8['TimePeriod'] = two8.apply(lambda x: period_replace_check(x.dayperiod, x.hour, x.minute), axis=1)"
   ]
  },
  {
   "cell_type": "code",
   "execution_count": 15,
   "metadata": {},
   "outputs": [],
   "source": [
    "two12['TimePeriod'] = two12.apply(lambda x: period_replace_check(x.dayperiod, x.hour, x.minute), axis=1)"
   ]
  },
  {
   "cell_type": "code",
   "execution_count": 16,
   "metadata": {},
   "outputs": [],
   "source": [
    "#TimePeriod - End"
   ]
  },
  {
   "cell_type": "code",
   "execution_count": 17,
   "metadata": {},
   "outputs": [],
   "source": [
    "#merge datasets\n",
    "finaldatasets = pd.concat([two1, two5, two8, two12]) "
   ]
  },
  {
   "cell_type": "code",
   "execution_count": 18,
   "metadata": {},
   "outputs": [
    {
     "data": {
      "text/html": [
       "<div>\n",
       "<style scoped>\n",
       "    .dataframe tbody tr th:only-of-type {\n",
       "        vertical-align: middle;\n",
       "    }\n",
       "\n",
       "    .dataframe tbody tr th {\n",
       "        vertical-align: top;\n",
       "    }\n",
       "\n",
       "    .dataframe thead th {\n",
       "        text-align: right;\n",
       "    }\n",
       "</style>\n",
       "<table border=\"1\" class=\"dataframe\">\n",
       "  <thead>\n",
       "    <tr style=\"text-align: right;\">\n",
       "      <th></th>\n",
       "      <th>Unnamed: 0</th>\n",
       "      <th>ID</th>\n",
       "      <th>Case Number</th>\n",
       "      <th>Date</th>\n",
       "      <th>Block</th>\n",
       "      <th>IUCR</th>\n",
       "      <th>Primary Type</th>\n",
       "      <th>Description</th>\n",
       "      <th>Location Description</th>\n",
       "      <th>Arrest</th>\n",
       "      <th>...</th>\n",
       "      <th>date_id2</th>\n",
       "      <th>day</th>\n",
       "      <th>month</th>\n",
       "      <th>year</th>\n",
       "      <th>Seasons</th>\n",
       "      <th>hour</th>\n",
       "      <th>minute</th>\n",
       "      <th>second</th>\n",
       "      <th>dayperiod</th>\n",
       "      <th>TimePeriod</th>\n",
       "    </tr>\n",
       "  </thead>\n",
       "  <tbody>\n",
       "    <tr>\n",
       "      <th>0</th>\n",
       "      <td>879.0</td>\n",
       "      <td>4786321</td>\n",
       "      <td>HM399414</td>\n",
       "      <td>01/01/2004 12:01:00 AM</td>\n",
       "      <td>082XX S COLES AVE</td>\n",
       "      <td>0840</td>\n",
       "      <td>THEFT</td>\n",
       "      <td>FINANCIAL ID THEFT: OVER $300</td>\n",
       "      <td>RESIDENCE</td>\n",
       "      <td>False</td>\n",
       "      <td>...</td>\n",
       "      <td>12:01:00 AM</td>\n",
       "      <td>01</td>\n",
       "      <td>01</td>\n",
       "      <td>2004</td>\n",
       "      <td>Winter</td>\n",
       "      <td>12</td>\n",
       "      <td>01</td>\n",
       "      <td>00</td>\n",
       "      <td>AM</td>\n",
       "      <td>Night</td>\n",
       "    </tr>\n",
       "    <tr>\n",
       "      <th>1</th>\n",
       "      <td>2544.0</td>\n",
       "      <td>4676906</td>\n",
       "      <td>HM278933</td>\n",
       "      <td>03/01/2003 12:00:00 AM</td>\n",
       "      <td>004XX W 42ND PL</td>\n",
       "      <td>2825</td>\n",
       "      <td>OTHER OFFENSE</td>\n",
       "      <td>HARASSMENT BY TELEPHONE</td>\n",
       "      <td>RESIDENCE</td>\n",
       "      <td>False</td>\n",
       "      <td>...</td>\n",
       "      <td>12:00:00 AM</td>\n",
       "      <td>03</td>\n",
       "      <td>01</td>\n",
       "      <td>2003</td>\n",
       "      <td>Winter</td>\n",
       "      <td>12</td>\n",
       "      <td>00</td>\n",
       "      <td>00</td>\n",
       "      <td>AM</td>\n",
       "      <td>Night</td>\n",
       "    </tr>\n",
       "    <tr>\n",
       "      <th>2</th>\n",
       "      <td>2919.0</td>\n",
       "      <td>4789749</td>\n",
       "      <td>HM402220</td>\n",
       "      <td>06/20/2004 11:00:00 AM</td>\n",
       "      <td>025XX N KIMBALL AVE</td>\n",
       "      <td>1752</td>\n",
       "      <td>OFFENSE INVOLVING CHILDREN</td>\n",
       "      <td>AGG CRIM SEX ABUSE FAM MEMBER</td>\n",
       "      <td>RESIDENCE</td>\n",
       "      <td>False</td>\n",
       "      <td>...</td>\n",
       "      <td>11:00:00 AM</td>\n",
       "      <td>06</td>\n",
       "      <td>20</td>\n",
       "      <td>2004</td>\n",
       "      <td>Fall</td>\n",
       "      <td>11</td>\n",
       "      <td>00</td>\n",
       "      <td>00</td>\n",
       "      <td>AM</td>\n",
       "      <td>Morning</td>\n",
       "    </tr>\n",
       "    <tr>\n",
       "      <th>3</th>\n",
       "      <td>2927.0</td>\n",
       "      <td>4789765</td>\n",
       "      <td>HM402058</td>\n",
       "      <td>12/30/2004 08:00:00 PM</td>\n",
       "      <td>045XX W MONTANA ST</td>\n",
       "      <td>0840</td>\n",
       "      <td>THEFT</td>\n",
       "      <td>FINANCIAL ID THEFT: OVER $300</td>\n",
       "      <td>OTHER</td>\n",
       "      <td>False</td>\n",
       "      <td>...</td>\n",
       "      <td>08:00:00 PM</td>\n",
       "      <td>12</td>\n",
       "      <td>30</td>\n",
       "      <td>2004</td>\n",
       "      <td>Fall</td>\n",
       "      <td>08</td>\n",
       "      <td>00</td>\n",
       "      <td>00</td>\n",
       "      <td>PM</td>\n",
       "      <td>Night</td>\n",
       "    </tr>\n",
       "    <tr>\n",
       "      <th>4</th>\n",
       "      <td>3302.0</td>\n",
       "      <td>4677901</td>\n",
       "      <td>HM275615</td>\n",
       "      <td>05/01/2003 01:00:00 AM</td>\n",
       "      <td>111XX S NORMAL AVE</td>\n",
       "      <td>0841</td>\n",
       "      <td>THEFT</td>\n",
       "      <td>FINANCIAL ID THEFT:$300 &amp;UNDER</td>\n",
       "      <td>RESIDENCE</td>\n",
       "      <td>False</td>\n",
       "      <td>...</td>\n",
       "      <td>01:00:00 AM</td>\n",
       "      <td>05</td>\n",
       "      <td>01</td>\n",
       "      <td>2003</td>\n",
       "      <td>Winter</td>\n",
       "      <td>01</td>\n",
       "      <td>00</td>\n",
       "      <td>00</td>\n",
       "      <td>AM</td>\n",
       "      <td>Night</td>\n",
       "    </tr>\n",
       "  </tbody>\n",
       "</table>\n",
       "<p>5 rows × 34 columns</p>\n",
       "</div>"
      ],
      "text/plain": [
       "   Unnamed: 0       ID Case Number                    Date  \\\n",
       "0       879.0  4786321    HM399414  01/01/2004 12:01:00 AM   \n",
       "1      2544.0  4676906    HM278933  03/01/2003 12:00:00 AM   \n",
       "2      2919.0  4789749    HM402220  06/20/2004 11:00:00 AM   \n",
       "3      2927.0  4789765    HM402058  12/30/2004 08:00:00 PM   \n",
       "4      3302.0  4677901    HM275615  05/01/2003 01:00:00 AM   \n",
       "\n",
       "                 Block  IUCR                Primary Type  \\\n",
       "0    082XX S COLES AVE  0840                       THEFT   \n",
       "1      004XX W 42ND PL  2825               OTHER OFFENSE   \n",
       "2  025XX N KIMBALL AVE  1752  OFFENSE INVOLVING CHILDREN   \n",
       "3   045XX W MONTANA ST  0840                       THEFT   \n",
       "4   111XX S NORMAL AVE  0841                       THEFT   \n",
       "\n",
       "                      Description Location Description Arrest  ...  \\\n",
       "0   FINANCIAL ID THEFT: OVER $300            RESIDENCE  False  ...   \n",
       "1         HARASSMENT BY TELEPHONE            RESIDENCE  False  ...   \n",
       "2   AGG CRIM SEX ABUSE FAM MEMBER            RESIDENCE  False  ...   \n",
       "3   FINANCIAL ID THEFT: OVER $300                OTHER  False  ...   \n",
       "4  FINANCIAL ID THEFT:$300 &UNDER            RESIDENCE  False  ...   \n",
       "\n",
       "      date_id2  day  month  year  Seasons hour minute second  dayperiod  \\\n",
       "0  12:01:00 AM   01     01  2004   Winter   12     01     00         AM   \n",
       "1  12:00:00 AM   03     01  2003   Winter   12     00     00         AM   \n",
       "2  11:00:00 AM   06     20  2004     Fall   11     00     00         AM   \n",
       "3  08:00:00 PM   12     30  2004     Fall   08     00     00         PM   \n",
       "4  01:00:00 AM   05     01  2003   Winter   01     00     00         AM   \n",
       "\n",
       "  TimePeriod  \n",
       "0      Night  \n",
       "1      Night  \n",
       "2    Morning  \n",
       "3      Night  \n",
       "4      Night  \n",
       "\n",
       "[5 rows x 34 columns]"
      ]
     },
     "execution_count": 18,
     "metadata": {},
     "output_type": "execute_result"
    }
   ],
   "source": [
    "finaldatasets.head()"
   ]
  },
  {
   "cell_type": "code",
   "execution_count": 19,
   "metadata": {},
   "outputs": [
    {
     "data": {
      "text/plain": [
       "Unnamed: 0                                        879\n",
       "ID                                            4786321\n",
       "Case Number                                  HM399414\n",
       "Date                           01/01/2004 12:01:00 AM\n",
       "Block                               082XX S COLES AVE\n",
       "IUCR                                             0840\n",
       "Primary Type                                    THEFT\n",
       "Description             FINANCIAL ID THEFT: OVER $300\n",
       "Location Description                        RESIDENCE\n",
       "Arrest                                          False\n",
       "Domestic                                        False\n",
       "Beat                                              424\n",
       "District                                            4\n",
       "Ward                                                7\n",
       "Community Area                                     46\n",
       "FBI Code                                           06\n",
       "X Coordinate                                      NaN\n",
       "Y Coordinate                                      NaN\n",
       "Year                                             2004\n",
       "Updated On                     08/17/2015 03:03:40 PM\n",
       "Latitude                                          NaN\n",
       "Longitude                                         NaN\n",
       "Location                                          NaN\n",
       "date_id1                                   01/01/2004\n",
       "date_id2                                  12:01:00 AM\n",
       "day                                                01\n",
       "month                                              01\n",
       "year                                             2004\n",
       "Seasons                                        Winter\n",
       "hour                                               12\n",
       "minute                                             01\n",
       "second                                             00\n",
       "dayperiod                                          AM\n",
       "TimePeriod                                      Night\n",
       "Name: 0, dtype: object"
      ]
     },
     "execution_count": 19,
     "metadata": {},
     "output_type": "execute_result"
    }
   ],
   "source": [
    "finaldatasets.iloc[0]"
   ]
  },
  {
   "cell_type": "code",
   "execution_count": 1,
   "metadata": {},
   "outputs": [
    {
     "ename": "NameError",
     "evalue": "name 'finaldatasets' is not defined",
     "output_type": "error",
     "traceback": [
      "\u001b[0;31m---------------------------------------------------------------------------\u001b[0m",
      "\u001b[0;31mNameError\u001b[0m                                 Traceback (most recent call last)",
      "\u001b[0;32m<ipython-input-1-69b150930f0b>\u001b[0m in \u001b[0;36m<module>\u001b[0;34m\u001b[0m\n\u001b[0;32m----> 1\u001b[0;31m \u001b[0mfinaldatasets\u001b[0m\u001b[0;34m[\u001b[0m\u001b[0;34m'Community Area'\u001b[0m\u001b[0;34m]\u001b[0m\u001b[0;34m.\u001b[0m\u001b[0munique\u001b[0m\u001b[0;34m(\u001b[0m\u001b[0;34m)\u001b[0m\u001b[0;34m\u001b[0m\u001b[0;34m\u001b[0m\u001b[0m\n\u001b[0m",
      "\u001b[0;31mNameError\u001b[0m: name 'finaldatasets' is not defined"
     ]
    }
   ],
   "source": [
    "finaldatasets['Community Area'].unique()"
   ]
  },
  {
   "cell_type": "code",
   "execution_count": null,
   "metadata": {},
   "outputs": [],
   "source": []
  }
 ],
 "metadata": {
  "kernelspec": {
   "display_name": "Python 3",
   "language": "python",
   "name": "python3"
  },
  "language_info": {
   "codemirror_mode": {
    "name": "ipython",
    "version": 3
   },
   "file_extension": ".py",
   "mimetype": "text/x-python",
   "name": "python",
   "nbconvert_exporter": "python",
   "pygments_lexer": "ipython3",
   "version": "3.7.3"
  }
 },
 "nbformat": 4,
 "nbformat_minor": 2
}
